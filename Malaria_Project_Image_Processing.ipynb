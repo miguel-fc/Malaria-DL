{
  "cells": [
    {
      "cell_type": "markdown",
      "metadata": {
        "id": "view-in-github",
        "colab_type": "text"
      },
      "source": [
        "<a href=\"https://colab.research.google.com/github/miguel-fc/Malaria-DL/blob/main/Malaria_Project_Image_Processing.ipynb\" target=\"_parent\"><img src=\"https://colab.research.google.com/assets/colab-badge.svg\" alt=\"Open In Colab\"/></a>"
      ]
    },
    {
      "cell_type": "code",
      "execution_count": null,
      "metadata": {
        "colab": {
          "background_save": true
        },
        "id": "W4DAOofIlCLN",
        "cellView": "form"
      },
      "outputs": [],
      "source": [
        "#@title Image Processing\n",
        "#@markdown This is a tool to resize images and convert them into grayscale and 16bit.\n",
        "#@markdown Please set the operations you want to perform in your images and press the play button in the left.\n",
        "\n",
        "import numpy as np\n",
        "from google.colab import files\n",
        "from PIL import Image\n",
        "\n",
        "resize = True #@param {type:\"boolean\"}\n",
        "resize_width = 512 #@param {type:\"integer\"}\n",
        "resize_height = 512 #@param {type:\"integer\"}\n",
        "grayscale = True #@param {type:\"boolean\"}\n",
        "to_16_bit = True #@param {type:\"boolean\"}\n",
        "\n",
        "print('''\n",
        "Please upload as many images as you want to process (all at once).\n",
        "Note that the images must be either .jpg or .png.\n",
        "''')\n",
        "original_images = files.upload()\n",
        "\n",
        "for filename in original_images.keys():\n",
        "  print(f'Processing {filename}')\n",
        "\n",
        "  if filename.split('.')[1] in ['jpg', 'png']:\n",
        "    image = Image.open(filename)\n",
        "    new_filename_end = ''\n",
        "\n",
        "    if resize:\n",
        "      image = image.resize((resize_width, resize_height))\n",
        "      new_filename_end += f'_{resize_width}x{resize_height}'\n",
        "\n",
        "    if grayscale:\n",
        "      image = image.convert('L')\n",
        "      new_filename_end += '_bw'\n",
        "\n",
        "    if to_16_bit:\n",
        "      image_array = np.asarray(image, dtype=np.uint16) \n",
        "      image_array *= 256\n",
        "      image = Image.fromarray(image_array)\n",
        "      new_filename_end += '_16b'\n",
        "\n",
        "    if resize or grayscale or to_16_bit:\n",
        "      new_filename = filename.split('.')[0] + new_filename_end + '.png'\n",
        "      image_to_download = image.save(new_filename)\n",
        "\n",
        "      print('Processing completed. Downloading...')\n",
        "      files.download(new_filename)\n",
        "  \n",
        "  else:\n",
        "    print('Unable to process file. File extension must be either .png or .jpg')"
      ],
      "id": "W4DAOofIlCLN"
    },
    {
      "cell_type": "code",
      "execution_count": null,
      "metadata": {
        "id": "e-0TaCuXjEvM"
      },
      "outputs": [],
      "source": [
        ""
      ],
      "id": "e-0TaCuXjEvM"
    }
  ],
  "metadata": {
    "colab": {
      "collapsed_sections": [],
      "name": "Malaria_Project-Image_Processing.ipynb",
      "provenance": [],
      "include_colab_link": true
    },
    "kernelspec": {
      "display_name": "NERSC Python",
      "language": "python",
      "name": "python3"
    },
    "language_info": {
      "codemirror_mode": {
        "name": "ipython",
        "version": 3
      },
      "file_extension": ".py",
      "mimetype": "text/x-python",
      "name": "python",
      "nbconvert_exporter": "python",
      "pygments_lexer": "ipython3",
      "version": "3.9.7"
    }
  },
  "nbformat": 4,
  "nbformat_minor": 5
}